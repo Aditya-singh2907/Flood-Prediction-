{
 "cells": [
  {
   "cell_type": "markdown",
   "id": "72eeea95-99b9-4f74-b1d3-8bb2c4e349d6",
   "metadata": {},
   "source": [
    "## 1. Import Libraries"
   ]
  },
  {
   "cell_type": "code",
   "execution_count": 1,
   "id": "3f993681-246b-4141-8169-d0b2423d0a13",
   "metadata": {},
   "outputs": [],
   "source": [
    "# Core Libraries\n",
    "import pandas as pd\n",
    "import numpy as np\n",
    "import joblib\n",
    "\n",
    "# Visualization\n",
    "import matplotlib.pyplot as plt\n",
    "import seaborn as sns\n",
    "\n",
    "# Model Evaluation\n",
    "from sklearn.metrics import accuracy_score, classification_report, confusion_matrix"
   ]
  },
  {
   "cell_type": "markdown",
   "id": "3c2a74eb-d2c6-4359-8a4e-d1c7a5c854f0",
   "metadata": {},
   "source": [
    "## 2. Load Model & Scaler"
   ]
  },
  {
   "cell_type": "code",
   "execution_count": 2,
   "id": "2b862e03-cc07-4113-ba53-2e32b006bfc1",
   "metadata": {},
   "outputs": [
    {
     "name": "stdout",
     "output_type": "stream",
     "text": [
      "✅ Model & scaler loaded successfully!\n"
     ]
    }
   ],
   "source": [
    "# Load trained model and scaler from current directory\n",
    "try:\n",
    "    model = joblib.load('flood_model.pkl')\n",
    "    scaler = joblib.load('flood_scaler.pkl')\n",
    "    print(\"✅ Model & scaler loaded successfully!\")\n",
    "except FileNotFoundError:\n",
    "    print(\"❌ Error: Run Train.py first to generate model files!\")\n",
    "    exit()"
   ]
  },
  {
   "cell_type": "markdown",
   "id": "551aa6ac-cf2c-46e5-8338-ad233ded7144",
   "metadata": {},
   "source": [
    "## 3. Load and Preprocess FRESH Test Data "
   ]
  },
  {
   "cell_type": "code",
   "execution_count": 3,
   "id": "a23072ea-aabc-47fc-a289-a2e93f8c4013",
   "metadata": {},
   "outputs": [
    {
     "name": "stdout",
     "output_type": "stream",
     "text": [
      "✅ Test data recreated and scaled successfully!\n"
     ]
    }
   ],
   "source": [
    "def load_and_preprocess_data(filepath):\n",
    "    \"\"\"Load and preprocess data identically to Train.py\"\"\"\n",
    "    df = pd.read_csv(filepath)\n",
    "    \n",
    "    # Clip outliers (same thresholds as training)\n",
    "    df['precip'] = df['precip'].clip(upper=500)\n",
    "    df['humidity'] = df['humidity'].clip(upper=100)\n",
    "    \n",
    "    # Handle missing values (if any)\n",
    "    if df.isnull().sum().any():\n",
    "        df.fillna(df.median(), inplace=True)\n",
    "    \n",
    "    return df\n",
    "\n",
    "# Load full dataset\n",
    "full_df = load_and_preprocess_data(\"data.csv\")  # original file\n",
    "\n",
    "# Split into features/target (same as Train.py)\n",
    "X = full_df.drop('class', axis=1)\n",
    "y = full_df['class']\n",
    "\n",
    "# --------------------------\n",
    "# 4. Recreate Test Set \n",
    "# (Must match Train.py's random_state=42 and test_size=0.2)\n",
    "# --------------------------\n",
    "from sklearn.model_selection import train_test_split\n",
    "_, X_test, _, y_test = train_test_split(\n",
    "    X, y, \n",
    "    test_size=0.2, \n",
    "    random_state=42,  \n",
    "    stratify=y\n",
    ")\n",
    "\n",
    "# Scale test data (using the SAME scaler)\n",
    "X_test_scaled = scaler.transform(X_test)\n",
    "\n",
    "print(\"✅ Test data recreated and scaled successfully!\")\n"
   ]
  },
  {
   "cell_type": "markdown",
   "id": "66ca1263-d73c-4f3a-94ac-c4b2bffc2701",
   "metadata": {},
   "source": [
    "## 4. Normal Ranges"
   ]
  },
  {
   "cell_type": "raw",
   "id": "2708a25a-1cb2-4704-9788-fc9c0d1fcd4e",
   "metadata": {},
   "source": [
    "### **Safe Ranges (No Flood Risk)**  \n",
    "- Temperature: 15°C to 35°C  \n",
    "- Max Temperature: 20°C to 40°C  \n",
    "- Wind Speed: 0 to 30 km/h  \n",
    "- Cloud Cover: 0% to 70%  \n",
    "- Precipitation: 0 to 50 mm/day  \n",
    "- Humidity: 30% to 80%  \n",
    "\n",
    "### **Danger Ranges (Flood Risk)**  \n",
    "- Temperature: >35°C (heatwaves)  \n",
    "- Max Temperature: >40°C  \n",
    "- Wind Speed: >40 km/h (storm conditions)  \n",
    "- Cloud Cover: >80% (heavy overcast)  \n",
    "- Precipitation: >100 mm/day  \n",
    "- Humidity: >85% (saturated air)  "
   ]
  },
  {
   "cell_type": "markdown",
   "id": "6847eb25-5a46-4579-aaa5-f24a15c118b4",
   "metadata": {},
   "source": [
    "## 5. Predefined FLOOD Case Test"
   ]
  },
  {
   "cell_type": "code",
   "execution_count": 4,
   "id": "5d6ba859-4cbc-4628-bcac-e9646fb76c23",
   "metadata": {},
   "outputs": [
    {
     "name": "stdout",
     "output_type": "stream",
     "text": [
      "\n",
      "Testing HIGH-RISK FLOOD SCENARIO:\n",
      "\n",
      "=== Flood Risk Prediction ===\n",
      "Weather Conditions: {'temp': 28.5, 'max_temp': 32.0, 'wind_speed': 45.0, 'cloudcover': 95.0, 'precip': 350.0, 'humidity': 98.0}\n",
      "Prediction: 🛑 FLOOD\n",
      "Probability: 91.6%\n"
     ]
    }
   ],
   "source": [
    "flood_case = {\n",
    "    'temp': 28.5,       # High temp + humidity\n",
    "    'max_temp': 32.0,\n",
    "    'wind_speed': 45.0,  # Storm conditions\n",
    "    'cloudcover': 95.0,  # Full overcast\n",
    "    'precip': 350.0,     # Heavy rainfall\n",
    "    'humidity': 98.0     # Saturated air\n",
    "}\n",
    "\n",
    "def predict_flood_risk(data):\n",
    "    \"\"\"Predict and print flood risk for given data.\"\"\"\n",
    "    df = pd.DataFrame([data])\n",
    "    scaled_data = scaler.transform(df)\n",
    "    proba = model.predict_proba(scaled_data)[0][1]\n",
    "    prediction = \"🛑 FLOOD\" if proba >= 0.5 else \"✅ SAFE\"\n",
    "    \n",
    "    print(\"\\n=== Flood Risk Prediction ===\")\n",
    "    print(f\"Weather Conditions: {data}\")\n",
    "    print(f\"Prediction: {prediction}\")\n",
    "    print(f\"Probability: {proba:.1%}\")\n",
    "    return proba\n",
    "\n",
    "# Test the flood case\n",
    "print(\"\\nTesting HIGH-RISK FLOOD SCENARIO:\")\n",
    "flood_prob = predict_flood_risk(flood_case)\n",
    "\n"
   ]
  },
  {
   "cell_type": "markdown",
   "id": "9a41f14a-808e-4519-ad2e-3f46a0f6ddb4",
   "metadata": {},
   "source": [
    "## 5. Predefined SAFE Case Test"
   ]
  },
  {
   "cell_type": "code",
   "execution_count": 5,
   "id": "b1850e40-9639-472f-97d4-cd269621422e",
   "metadata": {},
   "outputs": [
    {
     "name": "stdout",
     "output_type": "stream",
     "text": [
      "\n",
      "Testing SAFE WEATHER SCENARIO:\n",
      "\n",
      "=== Flood Risk Prediction ===\n",
      "Weather Conditions: {'temp': 22.0, 'max_temp': 26.0, 'wind_speed': 12.0, 'cloudcover': 30.0, 'precip': 5.0, 'humidity': 60.0}\n",
      "Prediction: ✅ SAFE\n",
      "Probability: 0.0%\n"
     ]
    }
   ],
   "source": [
    "safe_case = {\n",
    "    'temp': 22.0,       # Mild weather\n",
    "    'max_temp': 26.0,\n",
    "    'wind_speed': 12.0, # Calm winds\n",
    "    'cloudcover': 30.0, # Partly cloudy\n",
    "    'precip': 5.0,      # Light rain\n",
    "    'humidity': 60.0    # Comfortable\n",
    "}\n",
    "\n",
    "# Test the safe case\n",
    "print(\"\\nTesting SAFE WEATHER SCENARIO:\")\n",
    "safe_prob = predict_flood_risk(safe_case)\n",
    "\n"
   ]
  },
  {
   "cell_type": "markdown",
   "id": "73a21bbb-393a-47d1-897c-a9d65ccee8da",
   "metadata": {},
   "source": [
    "## 6. Model Evaluation on Test Data"
   ]
  },
  {
   "cell_type": "code",
   "execution_count": 6,
   "id": "25228f5f-5e19-4269-92d4-bd82938be219",
   "metadata": {},
   "outputs": [
    {
     "name": "stdout",
     "output_type": "stream",
     "text": [
      "\n",
      "=== Test Set Performance ===\n",
      "Accuracy: 0.99\n",
      "\n",
      "Classification Report:\n",
      "              precision    recall  f1-score   support\n",
      "\n",
      "           0       0.97      1.00      0.98       408\n",
      "           1       1.00      0.98      0.99       600\n",
      "\n",
      "    accuracy                           0.99      1008\n",
      "   macro avg       0.98      0.99      0.99      1008\n",
      "weighted avg       0.99      0.99      0.99      1008\n",
      "\n"
     ]
    },
    {
     "data": {
      "image/png": "[encoded data removed]",
      "text/plain": [
       "<Figure size 640x480 with 2 Axes>"
      ]
     },
     "metadata": {},
     "output_type": "display_data"
    }
   ],
   "source": [
    "y_pred = model.predict(X_test_scaled)\n",
    "\n",
    "print(\"\\n=== Test Set Performance ===\")\n",
    "print(f\"Accuracy: {accuracy_score(y_test, y_pred):.2f}\")\n",
    "print(\"\\nClassification Report:\")\n",
    "print(classification_report(y_test, y_pred))\n",
    "\n",
    "# Confusion Matrix\n",
    "sns.heatmap(confusion_matrix(y_test, y_pred), \n",
    "            annot=True, fmt='d', cmap='Blues',\n",
    "            xticklabels=['No Flood', 'Flood'],\n",
    "            yticklabels=['No Flood', 'Flood'])\n",
    "plt.title(\"Confusion Matrix\")\n",
    "plt.show()"
   ]
  },
  {
   "cell_type": "markdown",
   "id": "12b71881-dbd9-4b3e-a8c4-36c14cda5dfd",
   "metadata": {},
   "source": [
    "## 7. Custom Input Prediction"
   ]
  },
  {
   "cell_type": "code",
   "execution_count": 7,
   "id": "4b6e5058-6021-4fb9-8664-93743269b2a4",
   "metadata": {},
   "outputs": [
    {
     "name": "stdout",
     "output_type": "stream",
     "text": [
      "\n",
      "==================================================\n",
      "FLOOD RISK PREDICTION TOOL\n",
      "==================================================\n",
      "\n",
      "Enter Weather Parameters (Safe vs Flood Ranges):\n",
      "\n",
      "🌡️ [T] Temperature (°C)\n",
      "  Safe: 15-35°C\n",
      "  Flood Risk: ≥35°C\n"
     ]
    },
    {
     "name": "stdin",
     "output_type": "stream",
     "text": [
      "  Enter value:  38\n"
     ]
    },
    {
     "name": "stdout",
     "output_type": "stream",
     "text": [
      "\n",
      "↑ [M] Max Temperature (°C)\n",
      "  Safe: 20-40°C\n",
      "  Flood Risk: ≥40°C\n"
     ]
    },
    {
     "name": "stdin",
     "output_type": "stream",
     "text": [
      "  Enter value:  40\n"
     ]
    },
    {
     "name": "stdout",
     "output_type": "stream",
     "text": [
      "\n",
      "💨 [W] Wind Speed (km/h)\n",
      "  Safe: 0-30km/h\n",
      "  Flood Risk: ≥40km/h\n"
     ]
    },
    {
     "name": "stdin",
     "output_type": "stream",
     "text": [
      "  Enter value:  8\n"
     ]
    },
    {
     "name": "stdout",
     "output_type": "stream",
     "text": [
      "\n",
      "☁️ [C] Cloud Cover (%)\n",
      "  Safe: 0-70%\n",
      "  Flood Risk: ≥80%\n"
     ]
    },
    {
     "name": "stdin",
     "output_type": "stream",
     "text": [
      "  Enter value:  50\n"
     ]
    },
    {
     "name": "stdout",
     "output_type": "stream",
     "text": [
      "\n",
      "⛈️ [P] Precipitation (mm/day)\n",
      "  Safe: 0-50mm/day\n",
      "  Flood Risk: ≥100mm/day\n"
     ]
    },
    {
     "name": "stdin",
     "output_type": "stream",
     "text": [
      "  Enter value:  0\n"
     ]
    },
    {
     "name": "stdout",
     "output_type": "stream",
     "text": [
      "\n",
      "💧 [H] Humidity (%)\n",
      "  Safe: 30-80%\n",
      "  Flood Risk: ≥85%\n"
     ]
    },
    {
     "name": "stdin",
     "output_type": "stream",
     "text": [
      "  Enter value:  15\n"
     ]
    },
    {
     "name": "stdout",
     "output_type": "stream",
     "text": [
      "\n"
     ]
    },
    {
     "name": "stdin",
     "output_type": "stream",
     "text": [
      "\n",
      "Decision threshold (0-1, default=0.5):  \n"
     ]
    },
    {
     "data": {
      "image/png": "[encoded data removed]",
      "text/plain": [
       "<Figure size 1000x400 with 1 Axes>"
      ]
     },
     "metadata": {},
     "output_type": "display_data"
    }
   ],
   "source": [
    "def predict_case(params, model, scaler):\n",
    "    \"\"\"Predict flood risk for a single case\"\"\"\n",
    "    df = pd.DataFrame([params])\n",
    "    scaled_data = scaler.transform(df)\n",
    "    proba = model.predict_proba(scaled_data)[0][1]\n",
    "    return proba\n",
    "\n",
    "def custom_prediction():\n",
    "    print(\"\\n\" + \"=\"*50)\n",
    "    print(\"FLOOD RISK PREDICTION TOOL\")\n",
    "    print(\"=\"*50)\n",
    "    \n",
    "    # Parameter guide with symbols \n",
    "    params_guide = {\n",
    "        'temp': {\n",
    "            'name': '[T] Temperature',\n",
    "            'unit': '°C',\n",
    "            'safe': (15, 35),\n",
    "            'flood': (35, 50),\n",
    "            'symbol': '🌡️'  \n",
    "        },\n",
    "        'max_temp': {\n",
    "            'name': '[M] Max Temperature',\n",
    "            'unit': '°C',\n",
    "            'safe': (20, 40),\n",
    "            'flood': (40, 60),\n",
    "            'symbol': '↑'\n",
    "        },\n",
    "        'wind_speed': {\n",
    "            'name': '[W] Wind Speed',\n",
    "            'unit': 'km/h',\n",
    "            'safe': (0, 30),\n",
    "            'flood': (40, 120),\n",
    "            'symbol': '💨'\n",
    "        },\n",
    "        'cloudcover': {\n",
    "            'name': '[C] Cloud Cover',\n",
    "            'unit': '%',\n",
    "            'safe': (0, 70),\n",
    "            'flood': (80, 100),\n",
    "            'symbol': '☁️'\n",
    "        },\n",
    "        'precip': {\n",
    "            'name': '[P] Precipitation',\n",
    "            'unit': 'mm/day',\n",
    "            'safe': (0, 50),\n",
    "            'flood': (100, 500),\n",
    "            'symbol': '⛈️'\n",
    "        },\n",
    "        'humidity': {\n",
    "            'name': '[H] Humidity',\n",
    "            'unit': '%',\n",
    "            'safe': (30, 80),\n",
    "            'flood': (85, 100),\n",
    "            'symbol': '💧'\n",
    "        }\n",
    "    }\n",
    "    \n",
    "    params = {}\n",
    "    print(\"\\n\" + \"Enter Weather Parameters (Safe vs Flood Ranges):\\n\")\n",
    "    \n",
    "    for feature, guide in params_guide.items():\n",
    "        while True:\n",
    "            try:\n",
    "                # Display prompt with symbol (console only)\n",
    "                print(f\"{guide['symbol']} {guide['name']} ({guide['unit']})\")\n",
    "                print(f\"  Safe: {guide['safe'][0]}-{guide['safe'][1]}{guide['unit']}\")\n",
    "                print(f\"  Flood Risk: ≥{guide['flood'][0]}{guide['unit']}\")\n",
    "                \n",
    "                val = float(input(f\"  Enter value: \"))\n",
    "                \n",
    "                # Validate input\n",
    "                if guide['unit'] == '%' and not (0 <= val <= 100):\n",
    "                    print(\"  Error: Must be 0-100%\")\n",
    "                    continue\n",
    "                if feature == 'precip' and val < 0:\n",
    "                    print(\"  Error: Precipitation can't be negative\")\n",
    "                    continue\n",
    "                    \n",
    "                params[feature] = val\n",
    "                break\n",
    "                \n",
    "            except ValueError:\n",
    "                print(\"  Invalid input! Please enter a number.\")\n",
    "        print()  # Spacer\n",
    "\n",
    "    # Prediction\n",
    "    threshold = float(input(\"\\nDecision threshold (0-1, default=0.5): \") or 0.5)\n",
    "    proba = predict_case(params, model, scaler)\n",
    "    \n",
    "    # Visualization \n",
    "    plt.figure(figsize=(10, 4))\n",
    "    categories = ['SAFE (0)', 'FLOOD (1)']  # Text labels\n",
    "    bars = plt.barh(\n",
    "        categories,\n",
    "        [1-proba, proba], \n",
    "        color=['#4CAF50', '#F44336'],  # Green/Red\n",
    "        height=0.6\n",
    "    )\n",
    "    \n",
    "    # Add probability labels\n",
    "    for bar in bars:\n",
    "        width = bar.get_width()\n",
    "        plt.text(width/2, bar.get_y() + bar.get_height()/2,\n",
    "                f'{width:.1%}',\n",
    "                ha='center', va='center',\n",
    "                color='white', fontweight='bold',\n",
    "                fontsize=12)\n",
    "    \n",
    "    plt.xlim(0, 1)\n",
    "    plt.title(\n",
    "        \"FLOOD RISK ASSESSMENT\\n\" +\n",
    "        f\"Threshold = {threshold}\",\n",
    "        fontweight='bold',\n",
    "        pad=20\n",
    "    )\n",
    "    plt.xlabel(\"Probability\", fontweight='bold')\n",
    "    plt.grid(axis='x', alpha=0.3)\n",
    "    \n",
    "    # Threshold line\n",
    "    if threshold != 0.5:\n",
    "        plt.axvline(threshold, color='black', \n",
    "                   linestyle=':', linewidth=2,\n",
    "                   label=f'Threshold ({threshold})')\n",
    "        plt.legend(loc='upper right')\n",
    "    \n",
    "    plt.tight_layout()\n",
    "    plt.show()\n",
    "\n",
    "custom_prediction()"
   ]
  },
  {
   "cell_type": "code",
   "execution_count": null,
   "id": "787d8d69-af00-4318-a6d2-37cb085f6afc",
   "metadata": {},
   "outputs": [],
   "source": []
  },
  {
   "cell_type": "code",
   "execution_count": null,
   "id": "27f43f84-d38c-4418-933e-faf08904f257",
   "metadata": {},
   "outputs": [],
   "source": []
  }
 ],
 "metadata": {
  "kernelspec": {
   "display_name": "Python 3 (ipykernel)",
   "language": "python",
   "name": "python3"
  },
  "language_info": {
   "codemirror_mode": {
    "name": "ipython",
    "version": 3
   },
   "file_extension": ".py",
   "mimetype": "text/x-python",
   "name": "python",
   "nbconvert_exporter": "python",
   "pygments_lexer": "ipython3",
   "version": "3.12.4"
  }
 },
 "nbformat": 4,
 "nbformat_minor": 5
}
